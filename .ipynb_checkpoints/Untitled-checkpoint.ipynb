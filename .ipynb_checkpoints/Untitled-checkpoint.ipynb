{
 "cells": [
  {
   "cell_type": "code",
   "execution_count": null,
   "metadata": {},
   "outputs": [],
   "source": [
    "from flask import Flask, request\n",
    "from flask import jsonify\n",
    "import json\n",
    "import os\n",
    "import model_predict\n",
    "from model_predict import TEXT, predict_model, data2sent\n",
    "from utils import *\n",
    "import torch\n",
    "#实例化flask对象\n",
    "app = Flask(__name__)\n",
    "\n",
    "# status_model = \n",
    "\n",
    "\n",
    "\n",
    "@app.route('/', methods=['GET', 'POST'])\n",
    "def index():\n",
    "#     print(dirrs(request))\n",
    "#     inputs = request.json()\n",
    "#     print(inputs)\n",
    "#     data = TEXT.numericalize(inputs['text'])\n",
    "    result = {\"text\":\"hello\"}\n",
    "#     result = {\"text\":data2sent(predict_model(data), func=lambda word_tensor: torch.argmax(word_tensor, dim=-1))}\n",
    "    # print(json.dumps(inputs))\n",
    "    # inputs = json.dumps(inputs)\n",
    "    # print(type(inputs), inputs, jsonify(inputs), type(jsonify(inputs)))\n",
    "    # status = status_model(inputs)\n",
    "    # return {'key': request.form['text']}\n",
    "    return jsonify(result)  # inputs\n",
    "\n",
    "if __name__ == '__main__':\n",
    "    app.run(debug=True, port=int(os.getenv('PORT', 5001)))\n",
    "#     app.run(port=int(os.getenv('PORT', 5000)))\n"
   ]
  },
  {
   "cell_type": "code",
   "execution_count": null,
   "metadata": {},
   "outputs": [],
   "source": [
    "%tb"
   ]
  },
  {
   "cell_type": "code",
   "execution_count": null,
   "metadata": {},
   "outputs": [],
   "source": []
  }
 ],
 "metadata": {
  "hide_input": false,
  "kernelspec": {
   "display_name": "Geo",
   "language": "python",
   "name": "geo"
  },
  "language_info": {
   "codemirror_mode": {
    "name": "ipython",
    "version": 3
   },
   "file_extension": ".py",
   "mimetype": "text/x-python",
   "name": "python",
   "nbconvert_exporter": "python",
   "pygments_lexer": "ipython3",
   "version": "3.6.10"
  },
  "latex_envs": {
   "LaTeX_envs_menu_present": true,
   "autoclose": false,
   "autocomplete": true,
   "bibliofile": "biblio.bib",
   "cite_by": "apalike",
   "current_citInitial": 1,
   "eqLabelWithNumbers": true,
   "eqNumInitial": 1,
   "hotkeys": {
    "equation": "Ctrl-E",
    "itemize": "Ctrl-I"
   },
   "labels_anchors": false,
   "latex_user_defs": false,
   "report_style_numbering": false,
   "user_envs_cfg": false
  },
  "toc": {
   "base_numbering": 1,
   "nav_menu": {},
   "number_sections": true,
   "sideBar": true,
   "skip_h1_title": false,
   "title_cell": "Table of Contents",
   "title_sidebar": "Contents",
   "toc_cell": false,
   "toc_position": {},
   "toc_section_display": true,
   "toc_window_display": false
  },
  "varInspector": {
   "cols": {
    "lenName": 16,
    "lenType": 16,
    "lenVar": 40
   },
   "kernels_config": {
    "python": {
     "delete_cmd_postfix": "",
     "delete_cmd_prefix": "del ",
     "library": "var_list.py",
     "varRefreshCmd": "print(var_dic_list())"
    },
    "r": {
     "delete_cmd_postfix": ") ",
     "delete_cmd_prefix": "rm(",
     "library": "var_list.r",
     "varRefreshCmd": "cat(var_dic_list()) "
    }
   },
   "types_to_exclude": [
    "module",
    "function",
    "builtin_function_or_method",
    "instance",
    "_Feature"
   ],
   "window_display": false
  }
 },
 "nbformat": 4,
 "nbformat_minor": 4
}
