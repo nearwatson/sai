{
 "cells": [
  {
   "cell_type": "markdown",
   "metadata": {},
   "source": [
    "## Imports"
   ]
  },
  {
   "cell_type": "code",
   "execution_count": 18,
   "metadata": {
    "init_cell": true
   },
   "outputs": [],
   "source": [
    "import math, jieba, json, os, re, shutil, sys, time\n",
    "from datetime import datetime\n",
    "import numpy as np\n",
    "import tensorboardX\n",
    "import torch\n",
    "import torch.nn as nn\n",
    "import torch.nn.functional as F"
   ]
  },
  {
   "cell_type": "markdown",
   "metadata": {},
   "source": [
    "## Functions"
   ]
  },
  {
   "cell_type": "code",
   "execution_count": 7,
   "metadata": {
    "init_cell": true
   },
   "outputs": [],
   "source": [
    "from fields import Field, Parms, Semantic, Vocab, _make_vocab\n",
    "from utils import *\n",
    "from functions import *\n",
    "\n",
    "from nlp_db import nlp_db\n",
    "\n",
    "from model_class import NLU_Classify\n",
    "\n",
    "semantic = Semantic()\n",
    "args = Parms()\n",
    "vocab = Vocab(semantic)\n",
    "\n",
    "args.manual_log = './manualog_transfromer1.log'"
   ]
  },
  {
   "cell_type": "code",
   "execution_count": 8,
   "metadata": {
    "init_cell": true
   },
   "outputs": [],
   "source": [
    "device = torch.device('cuda:0' if torch.cuda.is_available() else 'cpu')"
   ]
  },
  {
   "cell_type": "markdown",
   "metadata": {},
   "source": [
    "## Dialog Task"
   ]
  },
  {
   "cell_type": "markdown",
   "metadata": {},
   "source": [
    "### Data "
   ]
  },
  {
   "cell_type": "markdown",
   "metadata": {},
   "source": [
    "#### Data Files"
   ]
  },
  {
   "cell_type": "code",
   "execution_count": 9,
   "metadata": {},
   "outputs": [
    {
     "name": "stdout",
     "output_type": "stream",
     "text": [
      "/home/ubuntu/Studio/dialog_db/chinese_chatbot_corpus-master/clean_chat_corpus/chatterbot.tsv\n",
      "/home/ubuntu/Studio/dialog_db/chinese_chatbot_corpus-master/clean_chat_corpus/xiaohuangji.tsv\n",
      "/home/ubuntu/Studio/dialog_db/chinese_chatbot_corpus-master/clean_chat_corpus/weibo.tsv\n",
      "/home/ubuntu/Studio/dialog_db/chinese_chatbot_corpus-master/clean_chat_corpus/douban_single_turn.tsv\n",
      "/home/ubuntu/Studio/dialog_db/chinese_chatbot_corpus-master/clean_chat_corpus/qingyun.tsv\n",
      "/home/ubuntu/Studio/dialog_db/chinese_chatbot_corpus-master/clean_chat_corpus/vocab.txt\n",
      "/home/ubuntu/Studio/dialog_db/chinese_chatbot_corpus-master/clean_chat_corpus/tieba.tsv\n",
      "/home/ubuntu/Studio/dialog_db/chinese_chatbot_corpus-master/clean_chat_corpus/subtitle.tsv\n",
      "/home/ubuntu/Studio/dialog_db/chinese_chatbot_corpus-master/clean_chat_corpus/ptt.tsv\n"
     ]
    }
   ],
   "source": [
    "# get train, test file names\n",
    "rel_path = \"../dialog_db/chinese_chatbot_corpus-master/clean_chat_corpus/\"\n",
    "cfiles = pathFiles(rel_path)\n",
    "[print(file) for file in cfiles]\n",
    "\n",
    "botTrainFile = cfiles[1]"
   ]
  },
  {
   "cell_type": "markdown",
   "metadata": {},
   "source": [
    "#### Vocab Preprocess"
   ]
  },
  {
   "cell_type": "code",
   "execution_count": 10,
   "metadata": {},
   "outputs": [],
   "source": [
    "args.vocab_path = os.path.abspath(os.path.join(rel_path, 'vocab.txt'))\n",
    "\n",
    "def make_chatbot_vocab(file, vocab_path, thres = 2):\n",
    "    word_dict = {}\n",
    "    with open(file, \"r\", encoding='utf-8') as f:\n",
    "        cnt = 0\n",
    "        for l in f.readlines():\n",
    "            for token in list(jieba.cut(l.strip().replace('\\t',\"\"))):\n",
    "                if token not in word_dict:\n",
    "                    word_dict[token] = 0\n",
    "                else:\n",
    "                    word_dict[token] += 1\n",
    "\n",
    "    if not os.path.isfile(vocab_path):\n",
    "        open(vocab_path,'a').close()\n",
    "\n",
    "    with open(vocab_path, 'w') as f:\n",
    "        for k, v in word_dict.items():\n",
    "            if v > thres:\n",
    "                print(k, file=f)"
   ]
  },
  {
   "cell_type": "code",
   "execution_count": 11,
   "metadata": {},
   "outputs": [
    {
     "name": "stderr",
     "output_type": "stream",
     "text": [
      "Building prefix dict from the default dictionary ...\n",
      "Loading model from cache /tmp/jieba.cache\n",
      "Loading model cost 0.602 seconds.\n",
      "Prefix dict has been built successfully.\n"
     ]
    },
    {
     "data": {
      "text/plain": [
       "(32707, 264, 0, 3, 1)"
      ]
     },
     "execution_count": 11,
     "metadata": {},
     "output_type": "execute_result"
    }
   ],
   "source": [
    "os.remove(args.vocab_path)\n",
    "if not os.path.isfile(args.vocab_path):\n",
    "    make_chatbot_vocab(botTrainFile, args.vocab_path)\n",
    "\n",
    "try:\n",
    "    vocab.load(args.vocab_path)\n",
    "except:\n",
    "    print(\"Vocab not loaded\")\n",
    "vocab.size, vocab.__getitem__('吃'), vocab.__getitem__(\n",
    "    '<pad>'), vocab.__getitem__('<unk>'), vocab.__getitem__('<sos>')"
   ]
  },
  {
   "cell_type": "markdown",
   "metadata": {},
   "source": [
    "#### Data Process => Model Parms Get"
   ]
  },
  {
   "cell_type": "code",
   "execution_count": 12,
   "metadata": {},
   "outputs": [],
   "source": [
    "def get_max_sent_len(file):\n",
    "    with open(file, \"r\", encoding='utf-8') as f:\n",
    "        maxlen, sent_count = 0, 0\n",
    "        for l in f.readlines():\n",
    "            maxlen = max([maxlen, max([len(sent) for sent in l.split()])])\n",
    "            sent_count += 1\n",
    "    \n",
    "    return maxlen, sent_count\n",
    "\n",
    "args.max_sent_len, args.sent_count = get_max_sent_len(botTrainFile)"
   ]
  },
  {
   "cell_type": "code",
   "execution_count": 13,
   "metadata": {
    "scrolled": true
   },
   "outputs": [
    {
     "data": {
      "text/plain": [
       "{'batch_size': 1000,\n",
       " 'exts': ['.en.atok', '.de.atok'],\n",
       " 'manual_log': './manualog_transfromer1.log',\n",
       " 'max_dec_num': 50,\n",
       " 'max_enc_num': 50,\n",
       " 'max_sent_len': 242,\n",
       " 'modes': ['train', 'val', 'test2016'],\n",
       " 'n_sent': 5,\n",
       " 'ndev': 1,\n",
       " 'path': './data/multi30k/',\n",
       " 'sent_count': 454129,\n",
       " 'vocab_path': '/home/ubuntu/Studio/dialog_db/chinese_chatbot_corpus-master/clean_chat_corpus/vocab.txt'}"
      ]
     },
     "execution_count": 13,
     "metadata": {},
     "output_type": "execute_result"
    }
   ],
   "source": [
    "args.batch_size = 1000\n",
    "dirrm(args)"
   ]
  },
  {
   "cell_type": "markdown",
   "metadata": {},
   "source": [
    "### Define the Model"
   ]
  },
  {
   "cell_type": "code",
   "execution_count": 15,
   "metadata": {},
   "outputs": [],
   "source": [
    "class TransformerModel(nn.Module):\n",
    "\n",
    "    def __init__(self, ntoken, ninp, nhead, nhid, nlayers, dropout=0.5):\n",
    "        super(TransformerModel, self).__init__()\n",
    "        from torch.nn import TransformerEncoder, TransformerEncoderLayer\n",
    "        self.model_type = 'Transformer'\n",
    "        self.src_mask = None\n",
    "        self.pos_encoder = PositionalEncoding(ninp, dropout)\n",
    "        encoder_layers = TransformerEncoderLayer(ninp, nhead, nhid, dropout)\n",
    "        self.transformer_encoder = TransformerEncoder(encoder_layers, nlayers)\n",
    "        self.emb = nn.Embedding(ntoken, ninp)\n",
    "        self.ninp = ninp\n",
    "        self.decoder = nn.Linear(ninp, ntoken)\n",
    "\n",
    "        self.init_weights()\n",
    "\n",
    "    def _generate_square_subsequent_mask(self, sz):\n",
    "        mask = (torch.triu(torch.ones(sz, sz)) == 1).transpose(0, 1)\n",
    "        mask = mask.float().masked_fill(mask == 0, float('-inf')).masked_fill(mask == 1, float(0.0))\n",
    "        return mask\n",
    "\n",
    "    def init_weights(self):\n",
    "        initrange = 0.1\n",
    "        self.emb.weight.data.uniform_(-initrange, initrange)\n",
    "        self.decoder.bias.data.zero_()\n",
    "        self.decoder.weight.data.uniform_(-initrange, initrange)\n",
    "\n",
    "    def forward(self, src):\n",
    "        if self.src_mask is None or self.src_mask.size(0) != len(src):\n",
    "            device = src.device\n",
    "            mask = self._generate_square_subsequent_mask(len(src)).to(device)\n",
    "            self.src_mask = mask\n",
    "\n",
    "        src = self.emb(src) * math.sqrt(self.ninp)\n",
    "        src = self.pos_encoder(src)\n",
    "        output = self.transformer_encoder(src, self.src_mask)\n",
    "        output = self.decoder(output)\n",
    "        return output\n"
   ]
  },
  {
   "cell_type": "code",
   "execution_count": 102,
   "metadata": {},
   "outputs": [
    {
     "name": "stdout",
     "output_type": "stream",
     "text": [
      "torch.Size([100, 242, 200]) torch.Size([100, 242, 200]) torch.Size([100, 242, 200]) torch.Size([100, 242, 32707])\n"
     ]
    }
   ],
   "source": [
    "mask = model._generate_square_subsequent_mask(len(srcs_tensor)).to(device)\n",
    "\n",
    "print(\\\n",
    "model.emb(srcs_tensor).shape,\n",
    "model.pos_encoder(model.emb(srcs_tensor)).shape,\n",
    "model.transformer_encoder(model.pos_encoder(model.emb(srcs_tensor)), mask).shape,\n",
    "model.decoder(model.transformer_encoder(model.pos_encoder(model.emb(srcs_tensor)), mask)).shape\n",
    ")\n"
   ]
  },
  {
   "cell_type": "code",
   "execution_count": null,
   "metadata": {},
   "outputs": [],
   "source": []
  },
  {
   "cell_type": "code",
   "execution_count": 75,
   "metadata": {
    "scrolled": true
   },
   "outputs": [],
   "source": [
    "def batch_iter(file, batch_size):\n",
    "    with open(file, 'r') as f:\n",
    "        srcs = []\n",
    "        tgts = []\n",
    "        cnt = 0\n",
    "        no_pairs_num = 0\n",
    "        for line in f.readlines():\n",
    "            try:\n",
    "                src, tgt = line.strip().split('\\t')\n",
    "            except:\n",
    "#                 print(line.strip().split('\\t'), len(line.strip().split('\\t')))\n",
    "                no_pairs_num += 1\n",
    "                continue\n",
    "            src_wids = [vocab.__getitem__(token) for token in list(jieba.cut(src))]\n",
    "            src = src_wids + [0] * (args.max_sent_len - len(src_wids))\n",
    "            tgt_wids = [vocab.__getitem__(token) for token in list(jieba.cut(tgt))]\n",
    "            tgt = tgt_wids + [0] * (args.max_sent_len - len(tgt_wids))\n",
    "            \n",
    "            srcs.append(src)\n",
    "            tgts.append(tgt)\n",
    "            \n",
    "            cnt += 1\n",
    "            if cnt % batch_size == 0:\n",
    "                srcs_tensor = torch.tensor(srcs) \n",
    "                tgts_tensor = torch.tensor(tgts) \n",
    "                yield srcs_tensor, tgts_tensor\n",
    "                srcs = []\n",
    "                tgts = []\n",
    "                \n",
    "                print('{} num was found non-pair'.format(no_pairs_num))\n",
    "\n",
    "data_iter = batch_iter(botTrainFile, 100)"
   ]
  },
  {
   "cell_type": "code",
   "execution_count": null,
   "metadata": {},
   "outputs": [],
   "source": []
  },
  {
   "cell_type": "code",
   "execution_count": 91,
   "metadata": {},
   "outputs": [
    {
     "name": "stdout",
     "output_type": "stream",
     "text": [
      "0 num was found non-pair\n",
      "0 num was found non-pair\n",
      "0 num was found non-pair\n"
     ]
    }
   ],
   "source": [
    "cnt = 0\n",
    "for srcs, tgts in data_iter:\n",
    "    srcs_tensor, tgts_tensor = srcs, tgts\n",
    "    cnt += 1\n",
    "    if cnt > 2:\n",
    "        break\n",
    "        \n",
    "# srcs_tensor.shape, tgts_tensor.shape\n",
    "srcs_tensor = srcs_tensor.to(device)\n",
    "tgts_tensor = tgts_tensor.to(device)"
   ]
  },
  {
   "cell_type": "code",
   "execution_count": 93,
   "metadata": {},
   "outputs": [
    {
     "data": {
      "text/plain": [
       "torch.Size([100, 242, 200])"
      ]
     },
     "execution_count": 93,
     "metadata": {},
     "output_type": "execute_result"
    }
   ],
   "source": []
  },
  {
   "cell_type": "code",
   "execution_count": null,
   "metadata": {},
   "outputs": [],
   "source": []
  },
  {
   "cell_type": "code",
   "execution_count": 86,
   "metadata": {},
   "outputs": [],
   "source": [
    "args.ntokens = vocab.size\n",
    "args.emsize = 200 # embedding dimension\n",
    "args.nhid = 200 # the dimension of the feedforward network model in nn.TransformerEncoder\n",
    "args.nlayers = 2 # the number of nn.TransformerEncoderLayer in nn.TransformerEncoder\n",
    "args.nhead = 2 # the number of heads in the multiheadattention models\n",
    "args.dropout = 0.2 # the dropout value\n",
    "\n",
    "model = TransformerModel(args.ntokens, args.emsize, args.nhead, args.nhid, args.nlayers, args.dropout).to(device)"
   ]
  },
  {
   "cell_type": "code",
   "execution_count": 87,
   "metadata": {},
   "outputs": [],
   "source": [
    "criterion = nn.CrossEntropyLoss()\n",
    "lr = 5.0 # learning rate\n",
    "optimizer = torch.optim.SGD(model.parameters(), lr=lr)\n",
    "scheduler = torch.optim.lr_scheduler.StepLR(optimizer, 1.0, gamma=0.95)"
   ]
  },
  {
   "cell_type": "markdown",
   "metadata": {},
   "source": [
    "## Algorithm"
   ]
  },
  {
   "cell_type": "code",
   "execution_count": null,
   "metadata": {},
   "outputs": [],
   "source": [
    "# def train():\n",
    "#     model.train() # Turn on the train mode\n",
    "#     total_loss = 0.\n",
    "#     start_time = time.time()\n",
    "#     ntokens = len(TEXT.vocab.stoi)\n",
    "#     for batch, i in enumerate(range(0, train_data.size(0) - 1, bptt)):\n",
    "#         data, targets = get_batch(train_data, i)\n",
    "#         optimizer.zero_grad()\n",
    "#         output = model(data)\n",
    "#         loss = criterion(output.view(-1, ntokens), targets)\n",
    "#         loss.backward()\n",
    "#         torch.nn.utils.clip_grad_norm_(model.parameters(), 0.5)\n",
    "#         optimizer.step()\n",
    "\n",
    "#         total_loss += loss.item()\n",
    "#         log_interval = 200\n",
    "#         if batch % log_interval == 0 and batch > 0:\n",
    "#             cur_loss = total_loss / log_interval\n",
    "#             elapsed = time.time() - start_time\n",
    "#             print('| epoch {:3d} | {:5d}/{:5d} batches | '\n",
    "#                   'lr {:02.2f} | ms/batch {:5.2f} | '\n",
    "#                   'loss {:5.2f} | ppl {:8.2f}'.format(\n",
    "#                     epoch, batch, len(train_data) // bptt, scheduler.get_lr()[0],\n",
    "#                     elapsed * 1000 / log_interval,\n",
    "#                     cur_loss, math.exp(cur_loss)))\n",
    "#             total_loss = 0\n",
    "#             start_time = time.time()\n",
    "\n",
    "# def evaluate(eval_model, data_source):\n",
    "#     eval_model.eval() # Turn on the evaluation mode\n",
    "#     total_loss = 0.\n",
    "#     ntokens = len(TEXT.vocab.stoi)\n",
    "#     with torch.no_grad():\n",
    "#         for i in range(0, data_source.size(0) - 1, bptt):\n",
    "#             data, targets = get_batch(data_source, i)\n",
    "#             output = eval_model(data)\n",
    "#             output_flat = output.view(-1, ntokens)\n",
    "#             total_loss += len(data) * criterion(output_flat, targets).item()\n",
    "#     return total_loss / (len(data_source) - 1)\n"
   ]
  },
  {
   "cell_type": "code",
   "execution_count": 19,
   "metadata": {},
   "outputs": [],
   "source": [
    "# writer = tensorboardX.SummaryWriter('./runs/bot_transformer1')\n",
    "\n",
    "# best_val_loss = float(\"inf\")\n",
    "# epochs = 3 # The number of epochs\n",
    "# best_model = None\n",
    "\n",
    "# for epoch in range(1, epochs + 1):\n",
    "#     epoch_start_time = time.time()\n",
    "#     train()\n",
    "#     val_loss = evaluate(model, val_data)\n",
    "#     print('-' * 89)\n",
    "#     print('| end of epoch {:3d} | time: {:5.2f}s | valid loss {:5.2f} | '\n",
    "#           'valid ppl {:8.2f}'.format(epoch, (time.time() - epoch_start_time),\n",
    "#                                      val_loss, math.exp(val_loss)))\n",
    "#     print('-' * 89)\n",
    "#     writer.add_scalars('Metrics',{\"time\":time.time() - epoch_start_time,\n",
    "#                                      \"val_loss\":val_loss, \"valid ppl\":math.exp(val_loss)}, epoch)\n",
    "    \n",
    "#     if val_loss < best_val_loss:\n",
    "#         best_val_loss = val_loss\n",
    "#         best_model = model\n",
    "    \n",
    "#     torch.save(model.state_dict(),'./model_stores/bot_tf1.pth')\n",
    "    \n",
    "    \n",
    "#     scheduler.step()"
   ]
  },
  {
   "cell_type": "code",
   "execution_count": null,
   "metadata": {},
   "outputs": [],
   "source": []
  },
  {
   "cell_type": "markdown",
   "metadata": {},
   "source": [
    "## Appendix"
   ]
  },
  {
   "cell_type": "code",
   "execution_count": null,
   "metadata": {},
   "outputs": [],
   "source": [
    "\n",
    "class PositionalEncoding(nn.Module):\n",
    "\n",
    "    def __init__(self, d_model, dropout=0.1, max_len=5000):\n",
    "        super(PositionalEncoding, self).__init__()\n",
    "        self.dropout = nn.Dropout(p=dropout)\n",
    "\n",
    "        pe = torch.zeros(max_len, d_model)\n",
    "        position = torch.arange(0, max_len, dtype=torch.float).unsqueeze(1)\n",
    "        div_term = torch.exp(torch.arange(0, d_model, 2).float() * (-math.log(10000.0) / d_model))\n",
    "        pe[:, 0::2] = torch.sin(position * div_term)\n",
    "        pe[:, 1::2] = torch.cos(position * div_term)\n",
    "        pe = pe.unsqueeze(0).transpose(0, 1)\n",
    "        self.register_buffer('pe', pe)\n",
    "\n",
    "    def forward(self, x):\n",
    "        x = x + self.pe[:x.size(0), :]\n",
    "        return self.dropout(x)\n"
   ]
  }
 ],
 "metadata": {
  "hide_input": false,
  "kernelspec": {
   "display_name": "Geo",
   "language": "python",
   "name": "geo"
  },
  "language_info": {
   "codemirror_mode": {
    "name": "ipython",
    "version": 3
   },
   "file_extension": ".py",
   "mimetype": "text/x-python",
   "name": "python",
   "nbconvert_exporter": "python",
   "pygments_lexer": "ipython3",
   "version": "3.6.10"
  },
  "latex_envs": {
   "LaTeX_envs_menu_present": true,
   "autoclose": false,
   "autocomplete": true,
   "bibliofile": "biblio.bib",
   "cite_by": "apalike",
   "current_citInitial": 1,
   "eqLabelWithNumbers": true,
   "eqNumInitial": 1,
   "hotkeys": {
    "equation": "Ctrl-E",
    "itemize": "Ctrl-I"
   },
   "labels_anchors": false,
   "latex_user_defs": false,
   "report_style_numbering": false,
   "user_envs_cfg": false
  },
  "toc": {
   "base_numbering": 1,
   "nav_menu": {
    "height": "249.986px",
    "width": "257.997px"
   },
   "number_sections": true,
   "sideBar": true,
   "skip_h1_title": false,
   "title_cell": "Table of Contents",
   "title_sidebar": "Contents",
   "toc_cell": false,
   "toc_position": {},
   "toc_section_display": true,
   "toc_window_display": true
  },
  "varInspector": {
   "cols": {
    "lenName": 16,
    "lenType": 16,
    "lenVar": 40
   },
   "kernels_config": {
    "python": {
     "delete_cmd_postfix": "",
     "delete_cmd_prefix": "del ",
     "library": "var_list.py",
     "varRefreshCmd": "print(var_dic_list())"
    },
    "r": {
     "delete_cmd_postfix": ") ",
     "delete_cmd_prefix": "rm(",
     "library": "var_list.r",
     "varRefreshCmd": "cat(var_dic_list()) "
    }
   },
   "types_to_exclude": [
    "module",
    "function",
    "builtin_function_or_method",
    "instance",
    "_Feature"
   ],
   "window_display": false
  }
 },
 "nbformat": 4,
 "nbformat_minor": 4
}
