{
 "cells": [
  {
   "cell_type": "code",
   "execution_count": 176,
   "metadata": {},
   "outputs": [
    {
     "name": "stdout",
     "output_type": "stream",
     "text": [
      "vocab.size: 8699\n"
     ]
    }
   ],
   "source": [
    "import logging\n",
    "import torch\n",
    "import itertools, os, re, sys, time\n",
    "import torch.nn as nn\n",
    "import numpy as np\n",
    "from functools import partial\n",
    "from collections import namedtuple\n",
    "from fields import Vocab, Field, Parms, Semantic\n",
    "\n",
    "args = Parms()\n",
    "args.lstm_step_num = 2\n",
    "args.lstm_hid = 64\n",
    "semantic = Semantic()\n",
    "vocab = Vocab(semantic)\n",
    "path = \"./data/multi30k/vocab.txt\"\n",
    "\n",
    "vocab.load(path)\n",
    "print(\"vocab.size:\", vocab.size)\n",
    "\n",
    "def logg_process(path):\n",
    "    logger = logging.getLogger(__name__)  \n",
    "\n",
    "    logger.setLevel(logging.INFO)\n",
    "\n",
    "    file_handler = logging.FileHandler(path)\n",
    "    formatter    = logging.Formatter('%(asctime)s : %(levelname)s : %(name)s : %(message)s')\n",
    "    file_handler.setFormatter(formatter)\n",
    "\n",
    "    logger.addHandler(file_handler)\n",
    "\n",
    "    # Logs\n",
    "    # logger.debug('A debug message')\n",
    "    # logger.info('An info message')\n",
    "    # logger.warning('Something is not right.')\n",
    "    # logger.error('A Major error has happened.')\n",
    "    # logger.critical('Fatal error. Cannot continue')\n",
    "    \n",
    "def log_start(path, restart = True):\n",
    "    if restart:\n",
    "        if os.path.isfile(path):\n",
    "            os.remove(path)\n",
    "        logg_process(path)\n",
    "    else:\n",
    "        logg_process(path)\n",
    "\n",
    "class NLU(nn.Module):\n",
    "    def __init__(self,):\n",
    "        super(NLU, self).__init__()\n",
    "        self.type = 'projector'\n",
    "\n",
    "\n",
    "class NLU_Classify(nn.Module):\n",
    "    def __init__(self):\n",
    "        super(NLU_Classify, self).__init__()\n",
    "        self.type = 'classifier'\n",
    "        self.emb = nn.Embedding(vocab.size, embedding_dim = 128)\n",
    "        self.lstm = nn.LSTM(128, args.lstm_hid, args.lstm_step_num)\n",
    "#         , batch_first = True)\n",
    "        self.fc = nn.Linear(64, 10)\n",
    "        self.softmax = nn.Softmax(dim = 1)\n",
    "\n",
    "    def forward(self,x):\n",
    "        logger.info('inputs shape{}'.format( x.shape))\n",
    "        x = self.emb(x); logger.info('emb shape {}'.format(x.shape))\n",
    "        h0 = torch.randn(2,  20, args.lstm_hid)\n",
    "        c0 = torch.randn(2,  20, args.lstm_hid)\n",
    "        x, (hn, cn) = self.lstm(x, (h0, c0));logger.info('lstm shape {}'.format( x.shape))\n",
    "        x = self.fc(x);logger.info('fc shape {}'.format( x.shape))\n",
    "        x = self.softmax(x);logger.info('softmax shape{}'.format( x.shape))        \n",
    "        result = torch.argmax(x,dim=1);logger.info('result:'.format(result))        \n",
    "        \n",
    "        return result \n",
    "\n",
    "\n",
    "log_start('./logfile.log')\n",
    "ut = NLU_Classify()\n",
    "\n",
    "\n",
    "n_sent, batch_size = 5, 5\n",
    "sent_inds = [np.random.randint(vocab.size, size = 20) for i in range(batch_size)] \n",
    "## sent must of the same size for embed\n",
    "\n",
    "inputs = torch.tensor(sent_inds)\n",
    "output = ut(inputs)\n",
    "\n",
    "# %cat ./logfile.log\n",
    "\n",
    "for sent in output:\n",
    "    a = [vocab.vocab_list[ind] for ind in sent]\n",
    "    print(a)"
   ]
  },
  {
   "cell_type": "code",
   "execution_count": null,
   "metadata": {},
   "outputs": [],
   "source": []
  }
 ],
 "metadata": {
  "hide_input": false,
  "kernelspec": {
   "display_name": "Python 3",
   "language": "python",
   "name": "python3"
  },
  "language_info": {
   "codemirror_mode": {
    "name": "ipython",
    "version": 3
   },
   "file_extension": ".py",
   "mimetype": "text/x-python",
   "name": "python",
   "nbconvert_exporter": "python",
   "pygments_lexer": "ipython3",
   "version": "3.7.6"
  },
  "latex_envs": {
   "LaTeX_envs_menu_present": true,
   "autoclose": false,
   "autocomplete": true,
   "bibliofile": "biblio.bib",
   "cite_by": "apalike",
   "current_citInitial": 1,
   "eqLabelWithNumbers": true,
   "eqNumInitial": 1,
   "hotkeys": {
    "equation": "Ctrl-E",
    "itemize": "Ctrl-I"
   },
   "labels_anchors": false,
   "latex_user_defs": false,
   "report_style_numbering": false,
   "user_envs_cfg": false
  },
  "toc": {
   "base_numbering": 1,
   "nav_menu": {},
   "number_sections": true,
   "sideBar": true,
   "skip_h1_title": false,
   "title_cell": "Table of Contents",
   "title_sidebar": "Contents",
   "toc_cell": false,
   "toc_position": {},
   "toc_section_display": true,
   "toc_window_display": true
  },
  "varInspector": {
   "cols": {
    "lenName": 16,
    "lenType": 16,
    "lenVar": 40
   },
   "kernels_config": {
    "python": {
     "delete_cmd_postfix": "",
     "delete_cmd_prefix": "del ",
     "library": "var_list.py",
     "varRefreshCmd": "print(var_dic_list())"
    },
    "r": {
     "delete_cmd_postfix": ") ",
     "delete_cmd_prefix": "rm(",
     "library": "var_list.r",
     "varRefreshCmd": "cat(var_dic_list()) "
    }
   },
   "types_to_exclude": [
    "module",
    "function",
    "builtin_function_or_method",
    "instance",
    "_Feature"
   ],
   "window_display": false
  }
 },
 "nbformat": 4,
 "nbformat_minor": 2
}
